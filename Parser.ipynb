{
 "cells": [
  {
   "cell_type": "code",
   "execution_count": 76,
   "id": "7bc4a8e2",
   "metadata": {},
   "outputs": [],
   "source": [
    "import re\n",
    "import csv\n",
    "\n",
    "day_dict= { \n",
    "\"Sun, Oct 15\": \"10/15/2023\",\n",
    "\"Mon, Oct 16\": \"10/16/2023\", \n",
    "\"Tue, Oct 17\": \"10/17/2023\",\n",
    "\"Wed, Oct 18\": \"10/18/2023\"}\n",
    "\n",
    "fieldnames = ['Subject', 'Start Date', 'Start Time', 'End Date', 'End Time', 'Description', 'Location']\n",
    "\n",
    "def process_entry(entry):\n",
    "    #burn any leading blank lines\n",
    "    line = next(entry, None)\n",
    "    while line is not None and not line.strip():\n",
    "        line = next(entry, None)\n",
    "    \n",
    "    if not line:\n",
    "        return False, None\n",
    "    \n",
    "    # reg Exp to separate talk number and title\n",
    "    match = re.match(r'(\\d+)\\.\\s*(.*)', line)\n",
    "    if match:\n",
    "        talk_number = int(match.group(1))\n",
    "        subject = match.group(2)\n",
    "    \n",
    "        # Store the values in a dictionary\n",
    "        subject = \"Talk \" + str(talk_number) + \" \" + subject\n",
    "        parsed_data = {\n",
    "            \"Subject\": subject\n",
    "        }\n",
    "    else:\n",
    "        print(\"The talk title is not as expected. \")\n",
    "        print(line)\n",
    "    \n",
    "    #extract some easy stuff\n",
    "    session_title = next(entry, None)\n",
    "    parsed_data[\"Description\"] = session_title\n",
    "    date = next(entry, None)\n",
    "    parsed_data[\"Start Date\"] = day_dict[date]\n",
    "    parsed_data[\"End Date\"] = day_dict[date]\n",
    "    \n",
    "    ##Harder work to parse the time\n",
    "    next_line = next(entry, None)\n",
    "    parts = re.split(r'\\s*[–-]\\s*', next_line)\n",
    "\n",
    "    start_match = re.match(r'^(\\d+:\\d+)(?:\\s*(AM|PM))?', parts[0])\n",
    "    start_time = start_match.group(1)\n",
    "\n",
    "    end_match = re.match(r'^(\\d+:\\d+)(?:\\s*(AM|PM))?', parts[1])\n",
    "    end_time = end_match.group(1)\n",
    "    end_ampm = end_match.group(2)\n",
    "\n",
    "    #correct the am/pm of the start string\n",
    "    start_ampm = start_match.group(2) if start_match.group(2) else end_ampm\n",
    "    \n",
    "    parsed_data[\"Start Time\"] = start_time + \" \" + start_ampm\n",
    "    parsed_data[\"End Time\"] = end_time + \" \" + end_ampm\n",
    "        \n",
    "    parsed_data[\"Location\"] = next(entry, None)\n",
    "    \n",
    "    \n",
    "    return True, parsed_data\n",
    "\n",
    "def line_generator(file):\n",
    "    for line in file:\n",
    "        yield line.strip()\n",
    "\n",
    "def write_row_to_csv(file_pointer, data_dict):\n",
    "    writer = csv.DictWriter(file_pointer, fieldnames=fieldnames)\n",
    "    writer.writerow(data_dict)\n",
    "        "
   ]
  },
  {
   "cell_type": "code",
   "execution_count": 77,
   "id": "19c29cda",
   "metadata": {},
   "outputs": [],
   "source": [
    "# Open the CSV file and write the header\n",
    "output_file = \"output.csv\"\n",
    "with open(output_file, 'w', newline='') as csvfile:\n",
    "    writer = csv.DictWriter(csvfile, fieldnames=fieldnames)\n",
    "    writer.writeheader()\n"
   ]
  },
  {
   "cell_type": "code",
   "execution_count": 78,
   "id": "36890d48",
   "metadata": {},
   "outputs": [],
   "source": [
    "# Open the text file\n",
    "with open('raw_my_informs_talks.txt', 'r') as file:\n",
    "    entry = line_generator(file)\n",
    "    while True:\n",
    "        can_continue, result = process_entry(entry)\n",
    "        if not can_continue:\n",
    "            break\n",
    "\n",
    "        #Open the output csv and write to it and close it.\n",
    "        with open(output_file, 'a', newline='') as csvfile:  # Open in append mode\n",
    "            write_row_to_csv(csvfile, result)\n",
    "        "
   ]
  },
  {
   "cell_type": "code",
   "execution_count": 70,
   "id": "12a1835c",
   "metadata": {},
   "outputs": [
    {
     "data": {
      "text/plain": [
       "'3'"
      ]
     },
     "execution_count": 70,
     "metadata": {},
     "output_type": "execute_result"
    }
   ],
   "source": [
    "str(3)"
   ]
  },
  {
   "cell_type": "code",
   "execution_count": null,
   "id": "4a5cece7",
   "metadata": {},
   "outputs": [],
   "source": []
  }
 ],
 "metadata": {
  "kernelspec": {
   "display_name": "Python 3 (ipykernel)",
   "language": "python",
   "name": "python3"
  },
  "language_info": {
   "codemirror_mode": {
    "name": "ipython",
    "version": 3
   },
   "file_extension": ".py",
   "mimetype": "text/x-python",
   "name": "python",
   "nbconvert_exporter": "python",
   "pygments_lexer": "ipython3",
   "version": "3.11.5"
  }
 },
 "nbformat": 4,
 "nbformat_minor": 5
}
